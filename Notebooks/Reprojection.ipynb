{
 "cells": [
  {
   "cell_type": "markdown",
   "metadata": {},
   "source": [
    "# Reprojection"
   ]
  },
  {
   "cell_type": "code",
   "execution_count": null,
   "metadata": {
    "collapsed": true
   },
   "outputs": [],
   "source": [
    "import numpy as np\n",
    "import rasterio\n",
    "from rasterio import Affine as A\n",
    "from rasterio.warp import reproject, RESAMPLING\n",
    "\n",
    "with rasterio.Env():\n",
    "\n",
    "    # Source: a dataset in GeoScience Lambert Australia GDA94\n",
    "    src_crs = {'init': 'EPSG:3112'}\n",
    "    \n",
    "    # Destination: a dataset in Web Mercator (EPSG:3857)\n",
    "\n",
    "    dst_transform = [-237481.5, 425.0, 0.0, 237536.4, 0.0, -425.0]\n",
    "    dst_crs = {'init': 'EPSG:3857'}\n",
    "\n",
    "    reproject(\n",
    "        source,\n",
    "        destination,\n",
    "        src_transform=src_transform,\n",
    "        src_crs=src_crs,\n",
    "        dst_transform=dst_transform,\n",
    "        dst_crs=dst_crs,\n",
    "        resampling=RESAMPLING.nearest)\n",
    "\n",
    "    # Assert that the destination is only partly filled.\n",
    "    assert destination.any()\n",
    "    assert not destination.all()"
   ]
  }
 ],
 "metadata": {
  "kernelspec": {
   "display_name": "Python 3",
   "language": "python",
   "name": "python3"
  },
  "language_info": {
   "codemirror_mode": {
    "name": "ipython",
    "version": 3
   },
   "file_extension": ".py",
   "mimetype": "text/x-python",
   "name": "python",
   "nbconvert_exporter": "python",
   "pygments_lexer": "ipython3",
   "version": "3.6.2"
  }
 },
 "nbformat": 4,
 "nbformat_minor": 2
}
